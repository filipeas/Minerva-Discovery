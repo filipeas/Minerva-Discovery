{
 "cells": [
  {
   "cell_type": "markdown",
   "metadata": {},
   "source": [
    "## Metodologia 1\n",
    "\n",
    "Essa metodologia segue a seguinte definição:\n",
    "\n",
    "- Definir um script para setar pontos por iteração, para que, a cada novo ponto adicionado, seja melhorado o resultado da segmentação. Foi notado em experimentos manuais usando ViT-H que, ao colocar um ponto positivo na região central da fácies que se deseja segmentar, o modelo consegue capturar boa parte da região alvo, porém acaba \"vazando\" para regiões vizinhas. Assim, o algoritmo abaixo define o processo da adição dos pontos:\n",
    "\n",
    "### Algoritmo 1\n",
    "1. Escolha uma fácie para ser segmentada.\n",
    "2. Defina a quantidade de pontos que serão usados.\n",
    "3. Calcule o ponto médio dessa região e adicione um ponto na região que represente o meio.\n",
    "4. Calcule a diferença entre a área da fácie real com a predita pelo modelo.\n",
    "5. Se a diferença sobrar região para a predição, então o próximo ponto deverá ser negativo. Caso contrário, ou seja, se a diferença sobrar para a área real, então o próximo ponto deverá ser positivo.\n",
    "6. Volte para o passo 3 e subtraia o total de pontos possíveis.\n",
    "7. Para cada passo, salve o iou de cada ponto e o iou acumulado.\n",
    "8. Calcule a área sob a curva (AOC) da segmentação usando os valores de IoU acumulado por iteração.\n",
    "\n",
    "### Algoritmo 2\n",
    "1. Escolha uma fácie para ser segmentada.\n",
    "2. Defina a quantidade de pontos que serão usados.\n",
    "3. Calcule o ponto médio dessa região.\n",
    "4. Realize os seguintes passos para escolher o próximo ponto:\n",
    "    1. Defina uma janela m x m ao redor da região central calculada no passo 3).\n",
    "    2. Teste todos os pontos candidatos (positivo e negativo em cada quadrante) dentro dessa janela (m² experimentos).\n",
    "    3. Escolha o ponto (positivo ou negativo) que maximize o IoU.\n",
    "    4. Adicione o ponto escolhido ao modelo e atualize a predição.\n",
    "5. Volte para o passo 3 e subtraia o total de pontos possíveis.\n",
    "6. Para cada passo, salve o iou de cada ponto e o iou acumulado.\n",
    "7. Calcular também o delta IoU para avaliar o ganho marginal obtido com a adição do ponto\n",
    "8. Calcule a área sob a curva (AOC) da segmentação usando os valores de IoU acumulado por iteração.\n",
    "\n",
    "- OBS:\n",
    "1. Para cada algoritmo:\n",
    "    - Salvar visualmente as predições intermediárias (máscaras) em cada iteração pode ajudar a entender como os pontos positivos/negativos impactam a segmentação.\n",
    "    - Plotar as curvas de IoU acumulado ao longo das iterações.\n",
    "\n",
    "Após isso, fazer a seleção de X amostras e requisitar pessoas para realizar a segmentação das fácies da seguinte forma:\n",
    "- Dado uma seção, segmente as F fácies as segas usando N pontos.\n",
    "- Dado uma seção e sua label, olhe uma vez a label e segmente as F fácies com os mesmos N pontos."
   ]
  }
 ],
 "metadata": {
  "language_info": {
   "name": "python"
  }
 },
 "nbformat": 4,
 "nbformat_minor": 2
}

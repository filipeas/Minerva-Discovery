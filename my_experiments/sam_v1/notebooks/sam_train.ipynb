{
 "cells": [
  {
   "cell_type": "markdown",
   "metadata": {},
   "source": [
    "### Testando treino, teste e inferência com o SAM"
   ]
  },
  {
   "cell_type": "code",
   "execution_count": 1,
   "metadata": {},
   "outputs": [
    {
     "name": "stderr",
     "output_type": "stream",
     "text": [
      "/usr/local/lib/python3.10/dist-packages/_distutils_hack/__init__.py:53: UserWarning: Reliance on distutils from stdlib is deprecated. Users must rely on setuptools to provide the distutils module. Avoid importing distutils or import setuptools first, and avoid setting SETUPTOOLS_USE_DISTUTILS=stdlib. Register concerns at https://github.com/pypa/setuptools/issues/new?template=distutils-deprecation.yml\n",
      "  warnings.warn(\n",
      "/usr/local/lib/python3.10/dist-packages/tqdm/auto.py:21: TqdmWarning: IProgress not found. Please update jupyter and ipywidgets. See https://ipywidgets.readthedocs.io/en/stable/user_install.html\n",
      "  from .autonotebook import tqdm as notebook_tqdm\n"
     ]
    },
    {
     "name": "stdout",
     "output_type": "stream",
     "text": [
      "PyTorch Version: 2.5.1+cu124\n",
      "CUDA Version: 12.4\n",
      "CUDA Available: True\n",
      "CUDA Device Count: 1\n",
      "CUDA Device Name: NVIDIA GeForce RTX 4090\n"
     ]
    }
   ],
   "source": [
    "import os\n",
    "import random\n",
    "import numpy as np\n",
    "import gc\n",
    "from pathlib import Path\n",
    "\n",
    "import torch\n",
    "import torch.nn.functional as F\n",
    "import lightning as L\n",
    "\n",
    "from scipy.ndimage import gaussian_gradient_magnitude, laplace\n",
    "\n",
    "from minerva.data.datasets.supervised_dataset import SupervisedReconstructionDataset\n",
    "from minerva.data.readers.png_reader import PNGReader\n",
    "from minerva.data.readers.tiff_reader import TiffReader\n",
    "from minerva.models.nets.image.segment_anything.sam_lora import SAMLoRA\n",
    "from minerva.transforms.transform import _Transform\n",
    "from minerva.pipelines.lightning_pipeline import SimpleLightningPipeline\n",
    "from torch.utils.data import DataLoader\n",
    "\n",
    "from matplotlib import pyplot as plt\n",
    "\n",
    "print(\"PyTorch Version:\", torch.__version__)\n",
    "print(\"CUDA Version:\", torch.version.cuda)\n",
    "print(\"CUDA Available:\", torch.cuda.is_available())\n",
    "print(\"CUDA Device Count:\", torch.cuda.device_count())\n",
    "print(\"CUDA Device Name:\", torch.cuda.get_device_name(0) if torch.cuda.is_available() else \"No CUDA Device\")"
   ]
  },
  {
   "cell_type": "markdown",
   "metadata": {},
   "source": [
    "#### datasets"
   ]
  },
  {
   "cell_type": "code",
   "execution_count": 2,
   "metadata": {},
   "outputs": [],
   "source": [
    "# f3\n",
    "train_path = \"/workspaces/Minerva-Discovery/shared_data/seismic/f3_segmentation/images\"\n",
    "annotation_path = \"/workspaces/Minerva-Discovery/shared_data/seismic/f3_segmentation/annotations\"\n",
    "\n",
    "# seam-ai (parihaka)\n",
    "# train_path = \"/workspaces/Minerva-Discovery/shared_data/seam_ai_datasets/seam_ai/images\"\n",
    "# annotation_path = \"/workspaces/Minerva-Discovery/shared_data/seam_ai_datasets/seam_ai/annotations\"\n",
    "\n",
    "checkpoint_path = \"/workspaces/Minerva-Discovery/shared_data/weights_sam/checkpoints_sam/sam_vit_b_01ec64.pth\""
   ]
  },
  {
   "cell_type": "markdown",
   "metadata": {},
   "source": [
    "#### transform"
   ]
  },
  {
   "cell_type": "code",
   "execution_count": null,
   "metadata": {},
   "outputs": [],
   "source": [
    "# class Padding(_Transform):\n",
    "#     def __init__(self, target_h_size: int, target_w_size: int):\n",
    "#         self.target_h_size = target_h_size\n",
    "#         self.target_w_size = target_w_size\n",
    "\n",
    "#     def __call__(self, x: np.ndarray) -> np.ndarray:\n",
    "#         h, w = x.shape[:2]\n",
    "#         pad_h = max(0, self.target_h_size - h)\n",
    "#         pad_w = max(0, self.target_w_size - w)\n",
    "#         if len(x.shape) == 2:\n",
    "#             padded = np.pad(x, ((0, pad_h), (0, pad_w)), mode=\"reflect\")\n",
    "#             padded = np.expand_dims(padded, axis=2)\n",
    "#             padded = torch.from_numpy(padded).float()\n",
    "#         else:\n",
    "#             padded = np.pad(x, ((0, pad_h), (0, pad_w), (0, 0)), mode=\"reflect\")\n",
    "#             padded = torch.from_numpy(padded).float()\n",
    "\n",
    "#         padded = np.transpose(padded, (2, 0, 1))\n",
    "#         return padded\n",
    "\n",
    "# class Padding(_Transform):\n",
    "#     def __init__(self, target_h_size: int, target_w_size: int):\n",
    "#         self.target_h_size = target_h_size\n",
    "#         self.target_w_size = target_w_size\n",
    "\n",
    "#     def __call__(self, x: np.ndarray) -> np.ndarray:\n",
    "#         h, w = x.shape[:2]\n",
    "#         pad_h = max(0, self.target_h_size - h)\n",
    "#         pad_w = max(0, self.target_w_size - w)\n",
    "\n",
    "#         # Pad the image\n",
    "#         if len(x.shape) == 2:  # 2D image (grayscale)\n",
    "#             padded = np.pad(x, ((0, pad_h), (0, pad_w)), mode=\"reflect\")\n",
    "#             padded = np.expand_dims(padded, axis=2)  # Add channel dimension\n",
    "#         else:  # 3D image (color)\n",
    "#             padded = np.pad(x, ((0, pad_h), (0, pad_w), (0, 0)), mode=\"reflect\")\n",
    "\n",
    "#         # Convert to tensor and ensure shape is (C, H, W)\n",
    "#         padded = torch.from_numpy(padded).float()\n",
    "\n",
    "#         # Transpose to (C, H, W) format\n",
    "#         padded = padded.permute(2, 0, 1) if len(padded.shape) == 3 else padded.unsqueeze(0)\n",
    "\n",
    "#         # Ensure output size is (C, target_h_size, target_w_size)\n",
    "#         padded = F.pad(padded, (0, self.target_w_size - padded.shape[2], 0, self.target_h_size - padded.shape[1]), \"reflect\")\n",
    "\n",
    "#         return padded\n",
    "\n",
    "# transform = Padding(512, 512)"
   ]
  },
  {
   "cell_type": "markdown",
   "metadata": {},
   "source": [
    "#### Module"
   ]
  },
  {
   "cell_type": "code",
   "execution_count": null,
   "metadata": {},
   "outputs": [],
   "source": [
    "class PatchingTolstayaModule(L.LightningDataModule):\n",
    "    def __init__(\n",
    "        self,\n",
    "        train_path: str,\n",
    "        annotations_path: str,\n",
    "        patch_size: int = 255,\n",
    "        stride: int = 32,\n",
    "        batch_size: int = 8,\n",
    "        transforms: _Transform = None,\n",
    "        num_workers: int = None,\n",
    "    ):\n",
    "        super().__init__()\n",
    "        self.train_path = Path(train_path)\n",
    "        self.annotations_path = Path(annotations_path)\n",
    "        self.transforms = transforms\n",
    "        self.batch_size = batch_size\n",
    "        self.patch_size = patch_size\n",
    "        self.stride = stride\n",
    "        self.num_workers = num_workers if num_workers else os.cpu_count()\n",
    "\n",
    "        self.datasets = {}\n",
    "\n",
    "    # função útil\n",
    "    def normalize_data(self, data, target_min=-1, target_max=1):\n",
    "        \"\"\"\n",
    "        Função responsável por normalizar as imagens no intervalo (-1,1)\n",
    "        \"\"\"\n",
    "        data_min, data_max = data.min(), data.max()\n",
    "        return target_min + (data - data_min) * (target_max - target_min) / (data_max - data_min)\n",
    "\n",
    "    # função útil\n",
    "    def generate_depth_channel(self, shape):\n",
    "        \"\"\"\n",
    "        Função responsável por criar o canal de profundidade, com 0 no topo e 1 na base.\n",
    "        \"\"\"\n",
    "        depth_channel = np.linspace(0, 1, shape[0]).reshape(-1, 1)\n",
    "        return np.tile(depth_channel, (1, shape[1]))\n",
    "    \n",
    "    # função útil\n",
    "    def extract_patches(self, data, patch_size=255, stride=32, img_type='image'):\n",
    "        patches = []\n",
    "        if img_type == 'image': # caso seja imagens de entrada (h, w, c)\n",
    "            h, w, _ = data.shape\n",
    "        else: # caso seja labels de entrada (h, w)\n",
    "            h, w = data.shape\n",
    "        for i in range(0, h - patch_size + 1, stride):\n",
    "            for j in range(0, w - patch_size + 1, stride):\n",
    "                patch = data[i:i + patch_size, j:j + patch_size]\n",
    "                if img_type == 'image':\n",
    "                    patches.append(patch.transpose(2, 0, 1).astype(np.float32)) # o SAM só recebe (C H W)\n",
    "                else:\n",
    "                    patches.append(patch.astype(np.int64))\n",
    "        return np.array(patches)\n",
    "    \n",
    "    # funcao utils\n",
    "    def generate_facies_probability_channel(self, patch, facies_probabilities):\n",
    "        prob_map = np.random.choice(\n",
    "            len(facies_probabilities), size=patch.shape, p=facies_probabilities\n",
    "            )\n",
    "        return prob_map\n",
    "\n",
    "    # funcao util\n",
    "    def generate_amplitude_gradient_channel(self, patch):\n",
    "        # Usa gradiente de amplitude com suavização\n",
    "        gradient_channel = gaussian_gradient_magnitude(patch, sigma=1)\n",
    "        return gradient_channel / np.max(gradient_channel)  # Normalização\n",
    "\n",
    "    # funcao util\n",
    "    def generate_curvature_channel(self, patch):\n",
    "        # Calcula a curvatura usando o filtro de Laplace\n",
    "        curvature_channel = laplace(patch)\n",
    "        return curvature_channel / np.max(np.abs(curvature_channel))  # Normaliza para [-1, 1]\n",
    "\n",
    "    # função útil\n",
    "    def generate_image_with_depth(self, normalized_images):\n",
    "        two_channel_images = []\n",
    "        for img in normalized_images:  # Garantir que está trabalhando com imagens normalizadas\n",
    "            depth_channel = self.generate_depth_channel(img.shape[:2])  # Gerar canal de profundidade para esta imagem\n",
    "\n",
    "            if img.shape[-1] > 1:  # Se a imagem tiver múltiplos canais\n",
    "                # Escolher apenas o primeiro canal (exemplo, pode ser qualquer canal)\n",
    "                img = img[:, :, 0:1]  # Seleciona o primeiro canal e mantém as dimensões (H, W, 1)\n",
    "            \n",
    "            # gerando canal 3 (teste)\n",
    "            # facies_probabilities = np.array([0.2857, 0.1207, 0.4696, 0.0747, 0.0361, 0.0132])\n",
    "            # canal_3 = self.generate_facies_probability_channel(img, facies_probabilities)\n",
    "            # canal_3 = self.generate_amplitude_gradient_channel(img)\n",
    "            # canal_3 = self.generate_curvature_channel(img)\n",
    "\n",
    "            # Concatenar o primeiro canal com o depth_channel\n",
    "            depth_channel = np.expand_dims(depth_channel, axis=-1)  # Tornar (H, W, 1)\n",
    "            two_channel_image = np.concatenate((img, depth_channel), axis=-1)  # Concatenar ao longo do eixo dos canais\n",
    "            two_channel_images.append(two_channel_image)  # Adicionar ao array final\n",
    "        return two_channel_images\n",
    "    \n",
    "    # função util\n",
    "    def horizontal_flip(self, image, label):\n",
    "        if not isinstance(image, np.ndarray):\n",
    "            raise ValueError(f\"Experado image com type <class 'numpy.ndarray'>, mas foi recebido {type(image)}\")\n",
    "        if not isinstance(label, np.ndarray):\n",
    "            raise ValueError(f\"Experado label com type <class 'numpy.ndarray'>, mas foi recebido {type(label)}\")\n",
    "\n",
    "        if image.shape[0] != 3 or image.shape[1] != self.patch_size or image.shape[2] != self.patch_size:\n",
    "            raise ValueError(f\"Experado image com shape (C=3 H=patch_size W=patch_size), mas foi recebido {image.shape}\")\n",
    "        if label.shape[0] != self.patch_size or label.shape[1] != self.patch_size:\n",
    "            raise ValueError(f\"Experado label com shape (H=patch_size W=patch_size), mas foi recebido {label.shape}\")\n",
    "\n",
    "        image_flipped = np.flip(image, axis=2)\n",
    "        label_flipped = np.flip(label, axis=1)\n",
    "\n",
    "        # if any(s < 0 for s in image_flipped.strides):\n",
    "        #     print(f\"array com strides negativos detectado\")\n",
    "\n",
    "        return image_flipped.copy(), label_flipped.copy()\n",
    "    \n",
    "    def setup(self, stage=None):\n",
    "        if stage == \"fit\":\n",
    "            train_img_reader = [self.normalize_data(image) for image in TiffReader(self.train_path / \"train\")] # lendo imagens e normalizando\n",
    "            train_label_reader = PNGReader(self.annotations_path / \"train\")\n",
    "            \n",
    "            # Gerar imagens com canais de profundidade\n",
    "            # train_img_reader = self.generate_image_with_depth(train_img_reader)\n",
    "            \n",
    "            # Gerar patches em batches\n",
    "            patches_img_generator = []\n",
    "            for image in train_img_reader:\n",
    "                patches_img_generator.extend(self.extract_patches(image, self.patch_size, self.stride))\n",
    "            patches_label_generator = []\n",
    "            for image in train_label_reader:\n",
    "                patches_label_generator.extend(self.extract_patches(image, self.patch_size, self.stride, img_type='label'))\n",
    "\n",
    "            # \"\"\" augmentation \"\"\"\n",
    "            # # Aplicar augmentações nas imagens e labels, somente para as amostras com 3, 4 ou 6 classes\n",
    "            # augmented_img_generator = []\n",
    "            # augmented_label_generator = []\n",
    "            # for img, label in zip(patches_img_generator, patches_label_generator):\n",
    "            #     # TODO tá estourando nessa parte\n",
    "            #     augmented_img_generator.append(img)\n",
    "            #     augmented_label_generator.append(label)\n",
    "            #     # Verificar o número de classes na amostra\n",
    "            #     unique_classes = np.unique(label)\n",
    "            #     num_classes = len(unique_classes)\n",
    "                \n",
    "            #     if num_classes in [3, 4, 6]:  # Apenas aplicar augmentação nas amostras com 3, 4 ou 6 classes\n",
    "            #         img_horizontal_flip, label_horizontal_flip = self.horizontal_flip(img, label)\n",
    "            #         augmented_img_generator.append(img_horizontal_flip)\n",
    "            #         augmented_label_generator.append(label_horizontal_flip)\n",
    "            \n",
    "            # Criar dataset para treinamento\n",
    "            self.datasets[\"train\"] = SupervisedReconstructionDataset(\n",
    "                readers=[patches_img_generator, patches_label_generator],\n",
    "                transforms=self.transforms,\n",
    "            )\n",
    "            del train_img_reader, train_label_reader\n",
    "            del patches_img_generator, patches_label_generator\n",
    "            # del augmented_img_generator, augmented_label_generator\n",
    "            gc.collect()\n",
    "\n",
    "            val_img_reader = [self.normalize_data(image) for image in TiffReader(self.train_path / \"val\")]\n",
    "            val_label_reader = PNGReader(self.annotations_path / \"val\")\n",
    "\n",
    "            # gerar imagens com canais de profundidade\n",
    "            # val_img_reader = self.generate_image_with_depth(val_img_reader)\n",
    "\n",
    "            # Gerar patches em batches\n",
    "            patches_img_generator = []\n",
    "            for image in val_img_reader:\n",
    "                patches_img_generator.extend(self.extract_patches(image, self.patch_size, self.stride))\n",
    "            patches_label_generator = []\n",
    "            for image in val_label_reader:\n",
    "                patches_label_generator.extend(self.extract_patches(image, self.patch_size, self.stride, img_type='label'))\n",
    "\n",
    "            self.datasets[\"val\"] = SupervisedReconstructionDataset(\n",
    "                readers=[patches_img_generator, patches_label_generator],\n",
    "                transforms=self.transforms,\n",
    "            )\n",
    "            del val_img_reader, val_label_reader\n",
    "            del patches_img_generator, patches_label_generator\n",
    "            gc.collect()\n",
    "        \n",
    "        elif stage == \"test\" or stage == \"predict\":\n",
    "            test_img_reader = [self.normalize_data(image) for image in TiffReader(self.train_path / \"test\")]\n",
    "            test_label_reader = PNGReader(self.annotations_path / \"test\")\n",
    "\n",
    "            # gerar imagens com canais de profundidade\n",
    "            # test_img_reader = self.generate_image_with_depth(test_img_reader)\n",
    "\n",
    "            # Gerar patches em batches\n",
    "            patches_img_generator = []\n",
    "            for image in test_img_reader:\n",
    "                patches_img_generator.extend(self.extract_patches(image, self.patch_size, self.stride))\n",
    "            patches_label_generator = []\n",
    "            for image in test_label_reader:\n",
    "                patches_label_generator.extend(self.extract_patches(image, self.patch_size, self.stride, img_type='label'))\n",
    "\n",
    "            test_dataset = SupervisedReconstructionDataset(\n",
    "                readers=[patches_img_generator, patches_label_generator],\n",
    "                transforms=self.transforms,\n",
    "            )\n",
    "            del test_img_reader, test_label_reader\n",
    "            del patches_img_generator, patches_label_generator\n",
    "            gc.collect()\n",
    "\n",
    "            self.datasets[\"test\"] = test_dataset\n",
    "            self.datasets[\"predict\"] = test_dataset\n",
    "\n",
    "        else:\n",
    "            raise ValueError(f\"Invalid stage: {stage}\")\n",
    "\n",
    "    def train_dataloader(self):\n",
    "        return DataLoader(\n",
    "            self.datasets[\"train\"],\n",
    "            batch_size=self.batch_size,\n",
    "            num_workers=self.num_workers,\n",
    "            shuffle=True,\n",
    "            pin_memory=True, \n",
    "            drop_last=True\n",
    "        )\n",
    "\n",
    "    def val_dataloader(self):\n",
    "        return DataLoader(\n",
    "            self.datasets[\"val\"],\n",
    "            batch_size=self.batch_size,\n",
    "            num_workers=self.num_workers,\n",
    "            shuffle=False,\n",
    "            pin_memory=True, \n",
    "            drop_last=False\n",
    "        )\n",
    "\n",
    "    def test_dataloader(self):\n",
    "        return DataLoader(\n",
    "            self.datasets[\"test\"],\n",
    "            batch_size=self.batch_size,\n",
    "            num_workers=self.num_workers,\n",
    "            shuffle=False,\n",
    "            pin_memory=True, \n",
    "            drop_last=False\n",
    "        )\n",
    "\n",
    "    def predict_dataloader(self):\n",
    "        return DataLoader(\n",
    "            self.datasets[\"predict\"],\n",
    "            batch_size=self.batch_size,\n",
    "            num_workers=self.num_workers,\n",
    "            shuffle=False,\n",
    "            pin_memory=True, \n",
    "            drop_last=False\n",
    "        )\n",
    "\n",
    "    def worker_init_fn(self, worker_id):\n",
    "        random.seed(18 + worker_id)"
   ]
  },
  {
   "cell_type": "markdown",
   "metadata": {},
   "source": [
    "#### teste"
   ]
  },
  {
   "cell_type": "code",
   "execution_count": 5,
   "metadata": {},
   "outputs": [],
   "source": [
    "# # Configura o DataModule para o estágio de treinamento\n",
    "# data_module.setup(stage='fit')\n",
    "\n",
    "# # Obtenha o DataLoader para os dados de treinamento\n",
    "# train_loader = data_module.train_dataloader()"
   ]
  },
  {
   "cell_type": "code",
   "execution_count": 6,
   "metadata": {},
   "outputs": [],
   "source": [
    "# import gc\n",
    "# # Define o número de amostras que queremos exibir\n",
    "# num_amostras = 6\n",
    "# amostras = []\n",
    "\n",
    "# # Itera pelos batches para coletar as amostras\n",
    "# print(len(train_loader))\n",
    "# for batch in train_loader:\n",
    "#     image, label = batch\n",
    "#     print(image.shape, label.shape)\n",
    "#     image_np = image.permute(0, 2, 3, 1).detach().cpu().numpy()  # Ajusta para HWC (batch, height, width, channels)\n",
    "#     label_np = label.detach().cpu().numpy()  # Sem permutação, pois já está em formato HW\n",
    "\n",
    "#     # Normaliza a imagem se necessário\n",
    "#     if image_np.max() > 1:\n",
    "#         image_np = image_np / 255.0\n",
    "\n",
    "#     # Adiciona cada imagem e rótulo ao conjunto de amostras até atingir o número desejado\n",
    "#     for i in range(image_np.shape[0]):\n",
    "#         amostras.append((image_np[i], label_np[i]))\n",
    "#         if len(amostras) >= num_amostras:\n",
    "#             break\n",
    "#     if len(amostras) >= num_amostras:\n",
    "#         break\n",
    "\n",
    "# # Plota as 6 amostras em uma grade 3x2\n",
    "# for idx, (img, lbl) in enumerate(amostras):\n",
    "#     fig, axs = plt.subplots(1, 2, figsize=(10, 5))\n",
    "\n",
    "#     # Plota a imagem\n",
    "#     print(\"niveis unicos: \", np.unique(img))\n",
    "#     axs[0].imshow(img)\n",
    "#     axs[0].set_title(\"Imagem\")\n",
    "#     axs[0].axis('off')\n",
    "\n",
    "#     # Plota o rótulo\n",
    "#     print(\"niveis unicos: \", np.unique(lbl))\n",
    "#     axs[1].imshow(lbl, cmap='gray')\n",
    "#     axs[1].set_title(\"Rótulo\")\n",
    "#     axs[1].axis('off')\n",
    "\n",
    "#     plt.show()"
   ]
  },
  {
   "cell_type": "markdown",
   "metadata": {},
   "source": [
    "#### data module"
   ]
  },
  {
   "cell_type": "code",
   "execution_count": 4,
   "metadata": {},
   "outputs": [],
   "source": [
    "data_module = PatchingTolstayaModule(\n",
    "    train_path=train_path,\n",
    "    annotations_path=annotation_path,\n",
    "    patch_size=255,\n",
    "    stride=32,\n",
    "    batch_size=8\n",
    ")"
   ]
  },
  {
   "cell_type": "markdown",
   "metadata": {},
   "source": [
    "#### modelo"
   ]
  },
  {
   "cell_type": "code",
   "execution_count": 5,
   "metadata": {},
   "outputs": [
    {
     "name": "stdout",
     "output_type": "stream",
     "text": [
      "Focal loss alpha=0.25, will shrink the impact in background\n"
     ]
    },
    {
     "name": "stderr",
     "output_type": "stream",
     "text": [
      "/home/vscode/.local/lib/python3.10/site-packages/minerva/models/nets/image/segment_anything/build_sam.py:131: FutureWarning: You are using `torch.load` with `weights_only=False` (the current default value), which uses the default pickle module implicitly. It is possible to construct malicious pickle data which will execute arbitrary code during unpickling (See https://github.com/pytorch/pytorch/blob/main/SECURITY.md#untrusted-models for more details). In a future release, the default value for `weights_only` will be flipped to `True`. This limits the functions that could be executed during unpickling. Arbitrary objects will no longer be allowed to be loaded via this mode unless they are explicitly allowlisted by the user via `torch.serialization.add_safe_globals`. We recommend you start setting `weights_only=True` for any use case where you don't have full control of the loaded file. Please open an issue on GitHub for any issues related to this experimental feature.\n",
      "  state_dict = torch.load(f)\n"
     ]
    }
   ],
   "source": [
    "model = SAMLoRA(\n",
    "    image_size=255,\n",
    "    num_classes=5, # considera 6 pois internamente o sam faz +1 pro background\n",
    "    # pixel_mean=[123.675, 116.28],\n",
    "    # pixel_std=[58.395, 57.12],\n",
    "    alpha=1,\n",
    "    rank=4,\n",
    "    # apply_lora_vision_encoder=apply_lora_vision_encoder,\n",
    "    # apply_lora_mask_decoder=apply_lora_mask_decoder,\n",
    "    # frozen_vision_encoder=frozen_vision_encoder,\n",
    "    # frozen_prompt_encoder=frozen_prompt_encoder,\n",
    "    # frozen_mask_decoder=frozen_mask_decoder,\n",
    "    # vit_model=vit_model,\n",
    "    checkpoint=checkpoint_path,\n",
    "    # train_metrics={\"mIoU\": JaccardIndex(task=\"multiclass\", num_classes=6)},\n",
    "    # val_metrics={\"mIoU\": JaccardIndex(task=\"multiclass\", num_classes=6)},\n",
    "    # test_metrics={\"mIoU\": JaccardIndex(task=\"multiclass\", num_classes=6)},\n",
    ")"
   ]
  },
  {
   "cell_type": "markdown",
   "metadata": {},
   "source": [
    "#### treino"
   ]
  },
  {
   "cell_type": "code",
   "execution_count": 6,
   "metadata": {},
   "outputs": [
    {
     "name": "stderr",
     "output_type": "stream",
     "text": [
      "GPU available: True (cuda), used: True\n",
      "TPU available: False, using: 0 TPU cores\n",
      "HPU available: False, using: 0 HPUs\n"
     ]
    },
    {
     "name": "stdout",
     "output_type": "stream",
     "text": [
      "Log directory set to: /workspaces/Minerva-Discovery/my_experiments/sam_v1/notebooks/logs/sam_model/version_21\n"
     ]
    },
    {
     "name": "stderr",
     "output_type": "stream",
     "text": [
      "/usr/local/lib/python3.10/dist-packages/lightning/pytorch/callbacks/model_checkpoint.py:654: Checkpoint directory /workspaces/Minerva-Discovery/my_experiments/sam_v1/notebooks/checkpoints exists and is not empty.\n",
      "LOCAL_RANK: 0 - CUDA_VISIBLE_DEVICES: [0]\n",
      "\n",
      "  | Name       | Type             | Params | Mode \n",
      "--------------------------------------------------------\n",
      "0 | ce_loss    | CrossEntropyLoss | 0      | train\n",
      "1 | dice_loss  | DiceLoss         | 0      | train\n",
      "2 | focal_loss | Focal_loss       | 0      | train\n",
      "3 | model      | Sam              | 91.2 M | train\n",
      "--------------------------------------------------------\n",
      "191 K     Trainable params\n",
      "91.0 M    Non-trainable params\n",
      "91.2 M    Total params\n",
      "364.736   Total estimated model params size (MB)\n",
      "311       Modules in train mode\n",
      "0         Modules in eval mode\n"
     ]
    },
    {
     "name": "stdout",
     "output_type": "stream",
     "text": [
      "Epoch 49: 100%|██████████| 1592/1592 [01:59<00:00, 13.32it/s, v_num=21, train_loss_step=0.0707, val_loss_step=0.152, val_pixel_accuracy=0.967, val_mean_class_accuracy=0.951, val_dice_score=0.967, val_mIoU=0.895, val_loss_epoch=0.164, train_pixel_accuracy=0.976, train_mean_class_accuracy=0.965, train_dice_score=0.976, train_mIoU=0.911, train_loss_epoch=0.0499]"
     ]
    },
    {
     "name": "stderr",
     "output_type": "stream",
     "text": [
      "`Trainer.fit` stopped: `max_epochs=50` reached.\n"
     ]
    },
    {
     "name": "stdout",
     "output_type": "stream",
     "text": [
      "Epoch 49: 100%|██████████| 1592/1592 [01:59<00:00, 13.31it/s, v_num=21, train_loss_step=0.0707, val_loss_step=0.152, val_pixel_accuracy=0.967, val_mean_class_accuracy=0.951, val_dice_score=0.967, val_mIoU=0.895, val_loss_epoch=0.164, train_pixel_accuracy=0.976, train_mean_class_accuracy=0.965, train_dice_score=0.976, train_mIoU=0.911, train_loss_epoch=0.0499]\n",
      "Pipeline info saved at: /workspaces/Minerva-Discovery/my_experiments/sam_v1/notebooks/logs/sam_model/version_21/run_2024-11-21-13-04-4297b45c4817374176909b03697cea7b52.yaml\n"
     ]
    }
   ],
   "source": [
    "from lightning.pytorch.callbacks import ModelCheckpoint\n",
    "from datetime import datetime\n",
    "\n",
    "current_date = datetime.now().strftime(\"%Y-%m-%d\")\n",
    "\n",
    "# Define o callback para salvar o modelo com base no menor valor da métrica de validação\n",
    "checkpoint_callback = ModelCheckpoint(\n",
    "    monitor=\"val_loss\", # Métrica para monitorar\n",
    "    dirpath=\"./checkpoints\", # Diretório onde os checkpoints serão salvos\n",
    "    filename=f\"tolstaya-sam_model-{current_date}-{{epoch:02d}}-{{val_loss:.2f}}\", # Nome do arquivo do checkpoint\n",
    "    save_top_k=1, # Quantos melhores checkpoints salvar (no caso, o melhor)\n",
    "    mode=\"min\", # Como a métrica deve ser tratada (no caso, 'min' significa que menor valor de val_loss é melhor)\n",
    ")\n",
    "\n",
    "from lightning.pytorch.loggers import TensorBoardLogger\n",
    "# Defina o logger do TensorBoard\n",
    "logger = TensorBoardLogger(\"logs\", name=\"sam_model\")\n",
    "\n",
    "trainer = L.Trainer(\n",
    "    max_epochs=50,\n",
    "    accelerator=\"gpu\",\n",
    "    devices=1,\n",
    "    logger=logger,\n",
    "    callbacks=[checkpoint_callback],\n",
    ")\n",
    "# trainer.fit(model, data_module)\n",
    "\n",
    "pipeline = SimpleLightningPipeline(\n",
    "    model=model,\n",
    "    trainer=trainer,\n",
    "    save_run_status=True\n",
    ")\n",
    "\n",
    "pipeline.run(data=data_module, task=\"fit\")"
   ]
  },
  {
   "cell_type": "code",
   "execution_count": null,
   "metadata": {},
   "outputs": [],
   "source": [
    "# !tensorboard --logdir logs/"
   ]
  },
  {
   "cell_type": "markdown",
   "metadata": {},
   "source": [
    "#### teste"
   ]
  },
  {
   "cell_type": "code",
   "execution_count": 7,
   "metadata": {},
   "outputs": [
    {
     "name": "stderr",
     "output_type": "stream",
     "text": [
      "LOCAL_RANK: 0 - CUDA_VISIBLE_DEVICES: [0]\n"
     ]
    },
    {
     "ename": "",
     "evalue": "",
     "output_type": "error",
     "traceback": [
      "\u001b[1;31mO Kernel deu pane ao executar o código na célula atual ou em uma célula anterior. \n",
      "\u001b[1;31mAnalise o código nas células para identificar uma possível causa da pane. \n",
      "\u001b[1;31mClique <a href='https://aka.ms/vscodeJupyterKernelCrash'>aqui</a> para obter mais informações. \n",
      "\u001b[1;31mConsulte Jupyter <a href='command:jupyter.viewOutput'>log</a> para obter mais detalhes."
     ]
    }
   ],
   "source": [
    "# trainer.test(model, data_module)\n",
    "pipeline.run(data=data_module, task=\"test\")"
   ]
  },
  {
   "cell_type": "markdown",
   "metadata": {},
   "source": [
    "#### inferencia"
   ]
  },
  {
   "cell_type": "code",
   "execution_count": null,
   "metadata": {},
   "outputs": [
    {
     "name": "stderr",
     "output_type": "stream",
     "text": [
      "LOCAL_RANK: 0 - CUDA_VISIBLE_DEVICES: [0]\n"
     ]
    },
    {
     "name": "stdout",
     "output_type": "stream",
     "text": [
      "Predicting DataLoader 0: 100%|██████████| 200/200 [00:11<00:00, 17.92it/s]\n",
      "Pipeline info saved at: /workspaces/Minerva-Dev-Container/notebooks/logs/sam_model/version_3/run_2024-11-02-15-43-164bcf6f4ad3864e4e93ae0370dc01484c.yaml\n"
     ]
    }
   ],
   "source": [
    "# preds = trainer.predict(model, data_module)\n",
    "preds = pipeline.run(data=data_module, task=\"predict\")"
   ]
  },
  {
   "cell_type": "code",
   "execution_count": null,
   "metadata": {},
   "outputs": [],
   "source": [
    "image = torch.argmax(preds[108]['masks'], dim=1)"
   ]
  },
  {
   "cell_type": "code",
   "execution_count": null,
   "metadata": {},
   "outputs": [],
   "source": [
    "from matplotlib.colors import ListedColormap\n",
    "label_cmap = ListedColormap(\n",
    "    [\n",
    "        [0.29411764705882354, 0.4392156862745098, 0.7333333333333333],\n",
    "        [0.5882352941176471, 0.7607843137254902, 0.8666666666666667],\n",
    "        [0.8901960784313725, 0.9647058823529412, 0.9764705882352941],\n",
    "        [0.9803921568627451, 0.8745098039215686, 0.4666666666666667],\n",
    "        [0.9607843137254902, 0.47058823529411764, 0.29411764705882354],\n",
    "        [0.8470588235294118, 0.1568627450980392, 0.1411764705882353],\n",
    "    ]\n",
    ")"
   ]
  },
  {
   "cell_type": "code",
   "execution_count": null,
   "metadata": {},
   "outputs": [
    {
     "ename": "TypeError",
     "evalue": "Invalid shape (4, 512, 512) for image data",
     "output_type": "error",
     "traceback": [
      "\u001b[0;31m---------------------------------------------------------------------------\u001b[0m",
      "\u001b[0;31mTypeError\u001b[0m                                 Traceback (most recent call last)",
      "Cell \u001b[0;32mIn[16], line 1\u001b[0m\n\u001b[0;32m----> 1\u001b[0m \u001b[43mplt\u001b[49m\u001b[38;5;241;43m.\u001b[39;49m\u001b[43mimshow\u001b[49m\u001b[43m(\u001b[49m\u001b[43mimage\u001b[49m\u001b[38;5;241;43m.\u001b[39;49m\u001b[43msqueeze\u001b[49m\u001b[43m(\u001b[49m\u001b[43m)\u001b[49m\u001b[38;5;241;43m.\u001b[39;49m\u001b[43mnumpy\u001b[49m\u001b[43m(\u001b[49m\u001b[43m)\u001b[49m\u001b[43m,\u001b[49m\u001b[43m \u001b[49m\u001b[43mcmap\u001b[49m\u001b[38;5;241;43m=\u001b[39;49m\u001b[43mlabel_cmap\u001b[49m\u001b[43m)\u001b[49m\n\u001b[1;32m      2\u001b[0m plt\u001b[38;5;241m.\u001b[39mshow()\n",
      "File \u001b[0;32m/usr/local/lib/python3.10/dist-packages/matplotlib/pyplot.py:2695\u001b[0m, in \u001b[0;36mimshow\u001b[0;34m(X, cmap, norm, aspect, interpolation, alpha, vmin, vmax, origin, extent, interpolation_stage, filternorm, filterrad, resample, url, data, **kwargs)\u001b[0m\n\u001b[1;32m   2689\u001b[0m \u001b[38;5;129m@_copy_docstring_and_deprecators\u001b[39m(Axes\u001b[38;5;241m.\u001b[39mimshow)\n\u001b[1;32m   2690\u001b[0m \u001b[38;5;28;01mdef\u001b[39;00m \u001b[38;5;21mimshow\u001b[39m(\n\u001b[1;32m   2691\u001b[0m         X, cmap\u001b[38;5;241m=\u001b[39m\u001b[38;5;28;01mNone\u001b[39;00m, norm\u001b[38;5;241m=\u001b[39m\u001b[38;5;28;01mNone\u001b[39;00m, \u001b[38;5;241m*\u001b[39m, aspect\u001b[38;5;241m=\u001b[39m\u001b[38;5;28;01mNone\u001b[39;00m, interpolation\u001b[38;5;241m=\u001b[39m\u001b[38;5;28;01mNone\u001b[39;00m,\n\u001b[1;32m   2692\u001b[0m         alpha\u001b[38;5;241m=\u001b[39m\u001b[38;5;28;01mNone\u001b[39;00m, vmin\u001b[38;5;241m=\u001b[39m\u001b[38;5;28;01mNone\u001b[39;00m, vmax\u001b[38;5;241m=\u001b[39m\u001b[38;5;28;01mNone\u001b[39;00m, origin\u001b[38;5;241m=\u001b[39m\u001b[38;5;28;01mNone\u001b[39;00m, extent\u001b[38;5;241m=\u001b[39m\u001b[38;5;28;01mNone\u001b[39;00m,\n\u001b[1;32m   2693\u001b[0m         interpolation_stage\u001b[38;5;241m=\u001b[39m\u001b[38;5;28;01mNone\u001b[39;00m, filternorm\u001b[38;5;241m=\u001b[39m\u001b[38;5;28;01mTrue\u001b[39;00m, filterrad\u001b[38;5;241m=\u001b[39m\u001b[38;5;241m4.0\u001b[39m,\n\u001b[1;32m   2694\u001b[0m         resample\u001b[38;5;241m=\u001b[39m\u001b[38;5;28;01mNone\u001b[39;00m, url\u001b[38;5;241m=\u001b[39m\u001b[38;5;28;01mNone\u001b[39;00m, data\u001b[38;5;241m=\u001b[39m\u001b[38;5;28;01mNone\u001b[39;00m, \u001b[38;5;241m*\u001b[39m\u001b[38;5;241m*\u001b[39mkwargs):\n\u001b[0;32m-> 2695\u001b[0m     __ret \u001b[38;5;241m=\u001b[39m \u001b[43mgca\u001b[49m\u001b[43m(\u001b[49m\u001b[43m)\u001b[49m\u001b[38;5;241;43m.\u001b[39;49m\u001b[43mimshow\u001b[49m\u001b[43m(\u001b[49m\n\u001b[1;32m   2696\u001b[0m \u001b[43m        \u001b[49m\u001b[43mX\u001b[49m\u001b[43m,\u001b[49m\u001b[43m \u001b[49m\u001b[43mcmap\u001b[49m\u001b[38;5;241;43m=\u001b[39;49m\u001b[43mcmap\u001b[49m\u001b[43m,\u001b[49m\u001b[43m \u001b[49m\u001b[43mnorm\u001b[49m\u001b[38;5;241;43m=\u001b[39;49m\u001b[43mnorm\u001b[49m\u001b[43m,\u001b[49m\u001b[43m \u001b[49m\u001b[43maspect\u001b[49m\u001b[38;5;241;43m=\u001b[39;49m\u001b[43maspect\u001b[49m\u001b[43m,\u001b[49m\n\u001b[1;32m   2697\u001b[0m \u001b[43m        \u001b[49m\u001b[43minterpolation\u001b[49m\u001b[38;5;241;43m=\u001b[39;49m\u001b[43minterpolation\u001b[49m\u001b[43m,\u001b[49m\u001b[43m \u001b[49m\u001b[43malpha\u001b[49m\u001b[38;5;241;43m=\u001b[39;49m\u001b[43malpha\u001b[49m\u001b[43m,\u001b[49m\u001b[43m \u001b[49m\u001b[43mvmin\u001b[49m\u001b[38;5;241;43m=\u001b[39;49m\u001b[43mvmin\u001b[49m\u001b[43m,\u001b[49m\n\u001b[1;32m   2698\u001b[0m \u001b[43m        \u001b[49m\u001b[43mvmax\u001b[49m\u001b[38;5;241;43m=\u001b[39;49m\u001b[43mvmax\u001b[49m\u001b[43m,\u001b[49m\u001b[43m \u001b[49m\u001b[43morigin\u001b[49m\u001b[38;5;241;43m=\u001b[39;49m\u001b[43morigin\u001b[49m\u001b[43m,\u001b[49m\u001b[43m \u001b[49m\u001b[43mextent\u001b[49m\u001b[38;5;241;43m=\u001b[39;49m\u001b[43mextent\u001b[49m\u001b[43m,\u001b[49m\n\u001b[1;32m   2699\u001b[0m \u001b[43m        \u001b[49m\u001b[43minterpolation_stage\u001b[49m\u001b[38;5;241;43m=\u001b[39;49m\u001b[43minterpolation_stage\u001b[49m\u001b[43m,\u001b[49m\n\u001b[1;32m   2700\u001b[0m \u001b[43m        \u001b[49m\u001b[43mfilternorm\u001b[49m\u001b[38;5;241;43m=\u001b[39;49m\u001b[43mfilternorm\u001b[49m\u001b[43m,\u001b[49m\u001b[43m \u001b[49m\u001b[43mfilterrad\u001b[49m\u001b[38;5;241;43m=\u001b[39;49m\u001b[43mfilterrad\u001b[49m\u001b[43m,\u001b[49m\u001b[43m \u001b[49m\u001b[43mresample\u001b[49m\u001b[38;5;241;43m=\u001b[39;49m\u001b[43mresample\u001b[49m\u001b[43m,\u001b[49m\n\u001b[1;32m   2701\u001b[0m \u001b[43m        \u001b[49m\u001b[43murl\u001b[49m\u001b[38;5;241;43m=\u001b[39;49m\u001b[43murl\u001b[49m\u001b[43m,\u001b[49m\u001b[43m \u001b[49m\u001b[38;5;241;43m*\u001b[39;49m\u001b[38;5;241;43m*\u001b[39;49m\u001b[43m(\u001b[49m\u001b[43m{\u001b[49m\u001b[38;5;124;43m\"\u001b[39;49m\u001b[38;5;124;43mdata\u001b[39;49m\u001b[38;5;124;43m\"\u001b[39;49m\u001b[43m:\u001b[49m\u001b[43m \u001b[49m\u001b[43mdata\u001b[49m\u001b[43m}\u001b[49m\u001b[43m \u001b[49m\u001b[38;5;28;43;01mif\u001b[39;49;00m\u001b[43m \u001b[49m\u001b[43mdata\u001b[49m\u001b[43m \u001b[49m\u001b[38;5;129;43;01mis\u001b[39;49;00m\u001b[43m \u001b[49m\u001b[38;5;129;43;01mnot\u001b[39;49;00m\u001b[43m \u001b[49m\u001b[38;5;28;43;01mNone\u001b[39;49;00m\u001b[43m \u001b[49m\u001b[38;5;28;43;01melse\u001b[39;49;00m\u001b[43m \u001b[49m\u001b[43m{\u001b[49m\u001b[43m}\u001b[49m\u001b[43m)\u001b[49m\u001b[43m,\u001b[49m\n\u001b[1;32m   2702\u001b[0m \u001b[43m        \u001b[49m\u001b[38;5;241;43m*\u001b[39;49m\u001b[38;5;241;43m*\u001b[39;49m\u001b[43mkwargs\u001b[49m\u001b[43m)\u001b[49m\n\u001b[1;32m   2703\u001b[0m     sci(__ret)\n\u001b[1;32m   2704\u001b[0m     \u001b[38;5;28;01mreturn\u001b[39;00m __ret\n",
      "File \u001b[0;32m/usr/local/lib/python3.10/dist-packages/matplotlib/__init__.py:1442\u001b[0m, in \u001b[0;36m_preprocess_data.<locals>.inner\u001b[0;34m(ax, data, *args, **kwargs)\u001b[0m\n\u001b[1;32m   1439\u001b[0m \u001b[38;5;129m@functools\u001b[39m\u001b[38;5;241m.\u001b[39mwraps(func)\n\u001b[1;32m   1440\u001b[0m \u001b[38;5;28;01mdef\u001b[39;00m \u001b[38;5;21minner\u001b[39m(ax, \u001b[38;5;241m*\u001b[39margs, data\u001b[38;5;241m=\u001b[39m\u001b[38;5;28;01mNone\u001b[39;00m, \u001b[38;5;241m*\u001b[39m\u001b[38;5;241m*\u001b[39mkwargs):\n\u001b[1;32m   1441\u001b[0m     \u001b[38;5;28;01mif\u001b[39;00m data \u001b[38;5;129;01mis\u001b[39;00m \u001b[38;5;28;01mNone\u001b[39;00m:\n\u001b[0;32m-> 1442\u001b[0m         \u001b[38;5;28;01mreturn\u001b[39;00m \u001b[43mfunc\u001b[49m\u001b[43m(\u001b[49m\u001b[43max\u001b[49m\u001b[43m,\u001b[49m\u001b[43m \u001b[49m\u001b[38;5;241;43m*\u001b[39;49m\u001b[38;5;28;43mmap\u001b[39;49m\u001b[43m(\u001b[49m\u001b[43msanitize_sequence\u001b[49m\u001b[43m,\u001b[49m\u001b[43m \u001b[49m\u001b[43margs\u001b[49m\u001b[43m)\u001b[49m\u001b[43m,\u001b[49m\u001b[43m \u001b[49m\u001b[38;5;241;43m*\u001b[39;49m\u001b[38;5;241;43m*\u001b[39;49m\u001b[43mkwargs\u001b[49m\u001b[43m)\u001b[49m\n\u001b[1;32m   1444\u001b[0m     bound \u001b[38;5;241m=\u001b[39m new_sig\u001b[38;5;241m.\u001b[39mbind(ax, \u001b[38;5;241m*\u001b[39margs, \u001b[38;5;241m*\u001b[39m\u001b[38;5;241m*\u001b[39mkwargs)\n\u001b[1;32m   1445\u001b[0m     auto_label \u001b[38;5;241m=\u001b[39m (bound\u001b[38;5;241m.\u001b[39marguments\u001b[38;5;241m.\u001b[39mget(label_namer)\n\u001b[1;32m   1446\u001b[0m                   \u001b[38;5;129;01mor\u001b[39;00m bound\u001b[38;5;241m.\u001b[39mkwargs\u001b[38;5;241m.\u001b[39mget(label_namer))\n",
      "File \u001b[0;32m/usr/local/lib/python3.10/dist-packages/matplotlib/axes/_axes.py:5665\u001b[0m, in \u001b[0;36mAxes.imshow\u001b[0;34m(self, X, cmap, norm, aspect, interpolation, alpha, vmin, vmax, origin, extent, interpolation_stage, filternorm, filterrad, resample, url, **kwargs)\u001b[0m\n\u001b[1;32m   5657\u001b[0m \u001b[38;5;28mself\u001b[39m\u001b[38;5;241m.\u001b[39mset_aspect(aspect)\n\u001b[1;32m   5658\u001b[0m im \u001b[38;5;241m=\u001b[39m mimage\u001b[38;5;241m.\u001b[39mAxesImage(\u001b[38;5;28mself\u001b[39m, cmap\u001b[38;5;241m=\u001b[39mcmap, norm\u001b[38;5;241m=\u001b[39mnorm,\n\u001b[1;32m   5659\u001b[0m                       interpolation\u001b[38;5;241m=\u001b[39minterpolation, origin\u001b[38;5;241m=\u001b[39morigin,\n\u001b[1;32m   5660\u001b[0m                       extent\u001b[38;5;241m=\u001b[39mextent, filternorm\u001b[38;5;241m=\u001b[39mfilternorm,\n\u001b[1;32m   5661\u001b[0m                       filterrad\u001b[38;5;241m=\u001b[39mfilterrad, resample\u001b[38;5;241m=\u001b[39mresample,\n\u001b[1;32m   5662\u001b[0m                       interpolation_stage\u001b[38;5;241m=\u001b[39minterpolation_stage,\n\u001b[1;32m   5663\u001b[0m                       \u001b[38;5;241m*\u001b[39m\u001b[38;5;241m*\u001b[39mkwargs)\n\u001b[0;32m-> 5665\u001b[0m \u001b[43mim\u001b[49m\u001b[38;5;241;43m.\u001b[39;49m\u001b[43mset_data\u001b[49m\u001b[43m(\u001b[49m\u001b[43mX\u001b[49m\u001b[43m)\u001b[49m\n\u001b[1;32m   5666\u001b[0m im\u001b[38;5;241m.\u001b[39mset_alpha(alpha)\n\u001b[1;32m   5667\u001b[0m \u001b[38;5;28;01mif\u001b[39;00m im\u001b[38;5;241m.\u001b[39mget_clip_path() \u001b[38;5;129;01mis\u001b[39;00m \u001b[38;5;28;01mNone\u001b[39;00m:\n\u001b[1;32m   5668\u001b[0m     \u001b[38;5;66;03m# image does not already have clipping set, clip to axes patch\u001b[39;00m\n",
      "File \u001b[0;32m/usr/local/lib/python3.10/dist-packages/matplotlib/image.py:710\u001b[0m, in \u001b[0;36m_ImageBase.set_data\u001b[0;34m(self, A)\u001b[0m\n\u001b[1;32m    706\u001b[0m     \u001b[38;5;28mself\u001b[39m\u001b[38;5;241m.\u001b[39m_A \u001b[38;5;241m=\u001b[39m \u001b[38;5;28mself\u001b[39m\u001b[38;5;241m.\u001b[39m_A[:, :, \u001b[38;5;241m0\u001b[39m]\n\u001b[1;32m    708\u001b[0m \u001b[38;5;28;01mif\u001b[39;00m \u001b[38;5;129;01mnot\u001b[39;00m (\u001b[38;5;28mself\u001b[39m\u001b[38;5;241m.\u001b[39m_A\u001b[38;5;241m.\u001b[39mndim \u001b[38;5;241m==\u001b[39m \u001b[38;5;241m2\u001b[39m\n\u001b[1;32m    709\u001b[0m         \u001b[38;5;129;01mor\u001b[39;00m \u001b[38;5;28mself\u001b[39m\u001b[38;5;241m.\u001b[39m_A\u001b[38;5;241m.\u001b[39mndim \u001b[38;5;241m==\u001b[39m \u001b[38;5;241m3\u001b[39m \u001b[38;5;129;01mand\u001b[39;00m \u001b[38;5;28mself\u001b[39m\u001b[38;5;241m.\u001b[39m_A\u001b[38;5;241m.\u001b[39mshape[\u001b[38;5;241m-\u001b[39m\u001b[38;5;241m1\u001b[39m] \u001b[38;5;129;01min\u001b[39;00m [\u001b[38;5;241m3\u001b[39m, \u001b[38;5;241m4\u001b[39m]):\n\u001b[0;32m--> 710\u001b[0m     \u001b[38;5;28;01mraise\u001b[39;00m \u001b[38;5;167;01mTypeError\u001b[39;00m(\u001b[38;5;124m\"\u001b[39m\u001b[38;5;124mInvalid shape \u001b[39m\u001b[38;5;132;01m{}\u001b[39;00m\u001b[38;5;124m for image data\u001b[39m\u001b[38;5;124m\"\u001b[39m\n\u001b[1;32m    711\u001b[0m                     \u001b[38;5;241m.\u001b[39mformat(\u001b[38;5;28mself\u001b[39m\u001b[38;5;241m.\u001b[39m_A\u001b[38;5;241m.\u001b[39mshape))\n\u001b[1;32m    713\u001b[0m \u001b[38;5;28;01mif\u001b[39;00m \u001b[38;5;28mself\u001b[39m\u001b[38;5;241m.\u001b[39m_A\u001b[38;5;241m.\u001b[39mndim \u001b[38;5;241m==\u001b[39m \u001b[38;5;241m3\u001b[39m:\n\u001b[1;32m    714\u001b[0m     \u001b[38;5;66;03m# If the input data has values outside the valid range (after\u001b[39;00m\n\u001b[1;32m    715\u001b[0m     \u001b[38;5;66;03m# normalisation), we issue a warning and then clip X to the bounds\u001b[39;00m\n\u001b[1;32m    716\u001b[0m     \u001b[38;5;66;03m# - otherwise casting wraps extreme values, hiding outliers and\u001b[39;00m\n\u001b[1;32m    717\u001b[0m     \u001b[38;5;66;03m# making reliable interpretation impossible.\u001b[39;00m\n\u001b[1;32m    718\u001b[0m     high \u001b[38;5;241m=\u001b[39m \u001b[38;5;241m255\u001b[39m \u001b[38;5;28;01mif\u001b[39;00m np\u001b[38;5;241m.\u001b[39missubdtype(\u001b[38;5;28mself\u001b[39m\u001b[38;5;241m.\u001b[39m_A\u001b[38;5;241m.\u001b[39mdtype, np\u001b[38;5;241m.\u001b[39minteger) \u001b[38;5;28;01melse\u001b[39;00m \u001b[38;5;241m1\u001b[39m\n",
      "\u001b[0;31mTypeError\u001b[0m: Invalid shape (4, 512, 512) for image data"
     ]
    },
    {
     "data": {
      "image/png": "[encoded data removed]",
      "text/plain": [
       "<Figure size 640x480 with 1 Axes>"
      ]
     },
     "metadata": {},
     "output_type": "display_data"
    }
   ],
   "source": [
    "plt.imshow(image.squeeze().numpy(), cmap=label_cmap)\n",
    "plt.show()"
   ]
  }
 ],
 "metadata": {
  "kernelspec": {
   "display_name": "Python 3",
   "language": "python",
   "name": "python3"
  },
  "language_info": {
   "codemirror_mode": {
    "name": "ipython",
    "version": 3
   },
   "file_extension": ".py",
   "mimetype": "text/x-python",
   "name": "python",
   "nbconvert_exporter": "python",
   "pygments_lexer": "ipython3",
   "version": "3.10.6"
  }
 },
 "nbformat": 4,
 "nbformat_minor": 2
}
